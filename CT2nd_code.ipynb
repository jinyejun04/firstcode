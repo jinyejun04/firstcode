{
  "nbformat": 4,
  "nbformat_minor": 0,
  "metadata": {
    "colab": {
      "provenance": [],
      "authorship_tag": "ABX9TyODRpc1ZmRjr18QDG1XJPRB",
      "include_colab_link": true
    },
    "kernelspec": {
      "name": "python3",
      "display_name": "Python 3"
    },
    "language_info": {
      "name": "python"
    }
  },
  "cells": [
    {
      "cell_type": "markdown",
      "metadata": {
        "id": "view-in-github",
        "colab_type": "text"
      },
      "source": [
        "<a href=\"https://colab.research.google.com/github/jinyejun04/firstcode/blob/main/CT2nd_code.ipynb\" target=\"_parent\"><img src=\"https://colab.research.google.com/assets/colab-badge.svg\" alt=\"Open In Colab\"/></a>"
      ]
    },
    {
      "cell_type": "markdown",
      "source": [
        "2번째\n",
        " - 사용자로부터 3개의 값을 받아서 합을 내고,\n",
        " 평균을 출력하는 코드"
      ],
      "metadata": {
        "id": "QI26d5llKY9j"
      }
    },
    {
      "cell_type": "code",
      "source": [
        "n1 = int(input(\"N1의 값을 입력하시오.: \"))  # 사용자로부터 N1의 값을 입력받습니다.\n",
        "n2 = int(input(\"N2의 값을 입력하시오.: \"))  # 사용자로부터 N2의 값을 입력받습니다.\n",
        "n3 = int(input(\"N3의 값을 입력하시오.: \"))  # 사용자로부터 N3의 값을 입력받습니다.\n",
        "total = n1 + n2 + n3                        # N1, N2, N3의 합을 계산합니다.\n",
        "average = total / 3                        # 평균을 계산합니다.\n",
        "print(average)                              # 평균을 출력합니다.\n"
      ],
      "metadata": {
        "colab": {
          "base_uri": "https://localhost:8080/"
        },
        "id": "hmyIpQQbIX_u",
        "outputId": "6ed73f97-b5a5-4dbe-ac93-6b799f35b61c"
      },
      "execution_count": null,
      "outputs": [
        {
          "output_type": "stream",
          "name": "stdout",
          "text": [
            "N1의 값을 입력하시오.: 2\n",
            "N2의 값을 입력하시오.: 3\n",
            "N3의 값을 입력하시오.: 4\n",
            "3.0\n"
          ]
        }
      ]
    }
  ]
}
{
  "nbformat": 4,
  "nbformat_minor": 0,
  "metadata": {
    "colab": {
      "provenance": [],
      "authorship_tag": "ABX9TyOezg8f5x1JhsEBSg96mob4",
      "include_colab_link": true
    },
    "kernelspec": {
      "name": "python3",
      "display_name": "Python 3"
    },
    "language_info": {
      "name": "python"
    }
  },
  "cells": [
    {
      "cell_type": "markdown",
      "metadata": {
        "id": "view-in-github",
        "colab_type": "text"
      },
      "source": [
        "<a href=\"https://colab.research.google.com/github/jinyejun04/firstcode/blob/main/My1st_Code.ipynb\" target=\"_parent\"><img src=\"https://colab.research.google.com/assets/colab-badge.svg\" alt=\"Open In Colab\"/></a>"
      ]
    },
    {
      "cell_type": "markdown",
      "source": [],
      "metadata": {
        "id": "X5a4RULrgxLt"
      }
    },
    {
      "cell_type": "markdown",
      "source": [
        "1. 나의 생의 첫 코드작성(helloworld)\n"
      ],
      "metadata": {
        "id": "0EwWrkZOhB6m"
      }
    },
    {
      "cell_type": "code",
      "source": [
        "print(\"helloworld\")"
      ],
      "metadata": {
        "colab": {
          "base_uri": "https://localhost:8080/"
        },
        "id": "qKhOtn3xhKz1",
        "outputId": "ee97de9f-a637-4a35-eec6-6aec533023fd"
      },
      "execution_count": 9,
      "outputs": [
        {
          "output_type": "stream",
          "name": "stdout",
          "text": [
            "helloworld\n"
          ]
        }
      ]
    },
    {
      "cell_type": "markdown",
      "source": [
        "2.사칙연산(+, -, *, /)"
      ],
      "metadata": {
        "id": "3Zh7ScEvj2k1"
      }
    },
    {
      "cell_type": "code",
      "source": [
        "print(4+4,4-2,4*4,4//2)"
      ],
      "metadata": {
        "colab": {
          "base_uri": "https://localhost:8080/"
        },
        "id": "trQdR32akFcM",
        "outputId": "a43a4264-79e4-45f6-f587-c9793fd649a4"
      },
      "execution_count": 13,
      "outputs": [
        {
          "output_type": "stream",
          "name": "stdout",
          "text": [
            "8 2 16 2\n"
          ]
        }
      ]
    }
  ]
}